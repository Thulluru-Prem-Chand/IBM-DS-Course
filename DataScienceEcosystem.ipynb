{
 "cells": [
  {
   "cell_type": "markdown",
   "id": "c1a50be7-a08c-4d67-a0cc-f9b231a9efdf",
   "metadata": {},
   "source": [
    "# Data Science Tools and Ecosystem"
   ]
  },
  {
   "cell_type": "markdown",
   "id": "fd0cafb8-80ab-404f-b50b-ad84830fcc5e",
   "metadata": {},
   "source": [
    "# Introduction\n",
    "In this notebook, Data Science Tools and Ecosystem are summarized."
   ]
  },
  {
   "cell_type": "markdown",
   "id": "2c488452-9f01-4f0c-acd6-c1572b14599f",
   "metadata": {},
   "source": [
    "# Some of the popular languages that Data Scientists use are:\n",
    "1. Python\n",
    "2. SQL\n",
    "3. R"
   ]
  },
  {
   "cell_type": "markdown",
   "id": "718b5711-7f71-4827-b803-6db6c670e6d8",
   "metadata": {
    "tags": []
   },
   "source": [
    "# Some of the commonly used libraries used by Data Scientists include:\n",
    "\n",
    "1. Numpy\n",
    "2. Pandas\n",
    "3. Matplotlib"
   ]
  },
  {
   "cell_type": "markdown",
   "id": "e2f722a4-8f87-4846-86fa-d7e155350ae3",
   "metadata": {},
   "source": [
    "|Data Science tools|\n",
    "|------------------|\n",
    "|Jupyter|\n",
    "|Mongo DB|\n",
    "|MySQl|\n",
    "|Watson Studio|"
   ]
  },
  {
   "cell_type": "markdown",
   "id": "630a55e1-2fb2-4435-b2ca-5fd6a68fe726",
   "metadata": {},
   "source": [
    "### Below are a few examples of evaluating arithmetic expressions in Python"
   ]
  },
  {
   "cell_type": "code",
   "execution_count": 2,
   "id": "ab334325-d12e-4397-9e59-661d0608c761",
   "metadata": {
    "tags": []
   },
   "outputs": [
    {
     "data": {
      "text/plain": [
       "17"
      ]
     },
     "execution_count": 2,
     "metadata": {},
     "output_type": "execute_result"
    }
   ],
   "source": [
    "# This a simple arithmetic expression to mutiply then add integers\n",
    "(3*4)+5"
   ]
  },
  {
   "cell_type": "code",
   "execution_count": 3,
   "id": "8e2a2054-ee8a-49b3-b7eb-b62682c59831",
   "metadata": {
    "tags": []
   },
   "outputs": [
    {
     "data": {
      "text/plain": [
       "3.3333333333333335"
      ]
     },
     "execution_count": 3,
     "metadata": {},
     "output_type": "execute_result"
    }
   ],
   "source": [
    "# This will convert 200 minutes to hours by diving by 60\n",
    "200/60"
   ]
  },
  {
   "cell_type": "markdown",
   "id": "83bd2dd5-1e56-4a62-a13f-525a555adddb",
   "metadata": {},
   "source": [
    "**Objectives:**\n",
    "- Python\n",
    "- R\n",
    "- SQL\n",
    "- MongDB\n",
    "- Machine Learning"
   ]
  },
  {
   "cell_type": "markdown",
   "id": "b7919c2c-06b1-4cd6-9c35-d22047feaf7d",
   "metadata": {},
   "source": [
    "## Author\n",
    "Thulluru Prem Chand"
   ]
  },
  {
   "cell_type": "code",
   "execution_count": null,
   "id": "713c48a3-253c-4cae-af09-1a62b10f8f82",
   "metadata": {},
   "outputs": [],
   "source": []
  }
 ],
 "metadata": {
  "kernelspec": {
   "display_name": "Python",
   "language": "python",
   "name": "conda-env-python-py"
  },
  "language_info": {
   "codemirror_mode": {
    "name": "ipython",
    "version": 3
   },
   "file_extension": ".py",
   "mimetype": "text/x-python",
   "name": "python",
   "nbconvert_exporter": "python",
   "pygments_lexer": "ipython3",
   "version": "3.7.12"
  }
 },
 "nbformat": 4,
 "nbformat_minor": 5
}
